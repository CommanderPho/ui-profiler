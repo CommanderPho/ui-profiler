{
 "cells": [
  {
   "cell_type": "markdown",
   "id": "453c51fb-7e3c-47ed-8934-51b7627720cf",
   "metadata": {},
   "source": [
    "# User Guide\n",
    "\n",
    "## Quick start\n",
    "\n",
    "You can install this extension from PyPI using:\n",
    "\n",
    "```bash\n",
    "pip install -U jupyterlab-ui-profiler\n",
    "```"
   ]
  },
  {
   "cell_type": "markdown",
   "id": "2d371f3c-c257-486d-b7b3-3569474bbc85",
   "metadata": {},
   "source": [
    "The ui-profiler can be started from Launcher's \"Other\" section:\n",
    "\n",
    "![Launcher](images/launcher.png)"
   ]
  },
  {
   "cell_type": "markdown",
   "id": "2c0efdc2-eeee-43c6-9f7a-4c3723b8c5be",
   "metadata": {},
   "source": [
    "### Interface"
   ]
  },
  {
   "cell_type": "markdown",
   "id": "4c5e718a-f9b7-4310-9d38-350cae9cc9f8",
   "metadata": {},
   "source": [
    "You can select multiple benchmarks (left) and multiple scenarios (right) at once. Configuration options for benchmarks and scenarios will show up when selected."
   ]
  },
  {
   "cell_type": "markdown",
   "id": "ce01e16a-f525-45cc-9500-0a93c8668ecf",
   "metadata": {},
   "source": [
    "![Profiler](images/ui-profiler.png)"
   ]
  },
  {
   "cell_type": "code",
   "execution_count": null,
   "id": "bbf6eca8-8a25-41b8-80bd-34f52d02151a",
   "metadata": {
    "tags": [
     "remove-cell"
    ]
   },
   "outputs": [],
   "source": [
    "import json\n",
    "from pathlib import Path\n",
    "from IPython.display import display, HTML\n",
    "\n",
    "schema_dir = Path('../../src/schema')"
   ]
  },
  {
   "cell_type": "code",
   "execution_count": null,
   "id": "98d9ed0d-efe7-4e58-9eff-1c252dbaf138",
   "metadata": {
    "tags": [
     "remove-cell"
    ]
   },
   "outputs": [],
   "source": [
    "def format_property(prop: dict, is_required: bool):\n",
    "    # TODO: default\n",
    "    detail = prop['type']\n",
    "    if 'enum' in prop:\n",
    "        detail = ' | '.join(prop['enum'])\n",
    "    if 'default' in prop:\n",
    "        detail += ', default=' + repr(prop['default'])\n",
    "    out = prop['title'] + ' (' + detail + ')'\n",
    "    if 'description' in prop:\n",
    "        out += ': ' + prop['description']\n",
    "    return out\n",
    "\n",
    "\n",
    "def show_settings(configurable: str):\n",
    "    try:\n",
    "        with open(schema_dir / f'{configurable}.json', 'r') as f:\n",
    "            settings = json.load(f)\n",
    "    except Exception as e:\n",
    "        print(schema_dir)\n",
    "        print(schema_dir.glob('**/*'))\n",
    "        raise e\n",
    "    properties = settings['properties']\n",
    "    required = settings.get('required', [])\n",
    "    formatted = [\n",
    "        format_property(prop, prop_id in required)\n",
    "        for prop_id, prop in properties.items()\n",
    "    ]\n",
    "    formatted = '\\n'.join(['<li>' + entry for entry in formatted])\n",
    "    display(HTML(f'<ul>{formatted}</ul>'))"
   ]
  },
  {
   "cell_type": "markdown",
   "id": "3a6048c9-fc68-4bc4-8556-952159cb8658",
   "metadata": {},
   "source": [
    "## Measuring execution time"
   ]
  },
  {
   "cell_type": "markdown",
   "id": "895be424-c57f-47c0-a8f0-beee63c141ab",
   "metadata": {},
   "source": [
    "> Note: The execution time is measured using `performance.now()` method which has reduced resolution in certain browsers/setups.\n",
    ">\n",
    "> To enable high-precision timings in Firefox (79+) we send additional HTTP headers: `Cross-Origin-Opener-Policy: same-origin` and `Cross-Origin-Embedder-Policy: require-corp` which may interfere with user experience (for example restricting the download of images from third-party servers). If this is undesirable, disable the server extension with:\n",
    "> ```\n",
    "> jupyter server extension disable jupyterlab_ui_profiler\n",
    "> ```"
   ]
  },
  {
   "cell_type": "markdown",
   "id": "80aad3f9-6688-402d-bf7a-e7331ea2ff25",
   "metadata": {},
   "source": [
    "### Interpretation"
   ]
  },
  {
   "cell_type": "markdown",
   "id": "0bb3207a-387a-4ca1-8aff-757709804be9",
   "metadata": {},
   "source": [
    "In general performance timings are easily skewed towards higher values by external tasks such as garbage collection, activity of browser extensions or CPU utilisation by external processes. We recommend sorting by first quartile as default, with empirically second-best option being inter-quartile mean - but this varies by benchmark and scenario.\n",
    "\n",
    "For benchmarking of individual actions, box plot visualisation is provided. You can hover over the circles, box lines, and whiskers to get details about the individual datapoints/statistics.\n",
    "\n",
    "![Boxplot](images/boxplot.png)\n",
    "\n",
    "The box represents 1st, 2nd (median) and 3rd quartile and whiskers correspond to minimum/maximum or 1.5 IQR away from the 1st/3rd quartile, whichever is smaller."
   ]
  },
  {
   "cell_type": "markdown",
   "id": "ec07e4de-4401-4dd6-ae5a-47af8c018aa8",
   "metadata": {},
   "source": [
    "#### Available settings"
   ]
  },
  {
   "cell_type": "code",
   "execution_count": null,
   "id": "70a4d8dc-7aac-417c-b0c1-e4f100a10210",
   "metadata": {
    "tags": [
     "remove-input"
    ]
   },
   "outputs": [],
   "source": [
    "show_settings('benchmark-execution')"
   ]
  },
  {
   "cell_type": "markdown",
   "id": "1dd0bfe5-06b9-49c3-983f-6eaca0b9e80b",
   "metadata": {},
   "source": [
    "### Troubleshooting"
   ]
  },
  {
   "cell_type": "markdown",
   "id": "e0ab96ac-210d-4a7c-abb0-90329f49efb8",
   "metadata": {},
   "source": [
    "If the timings in Firefox are of low resolution even though headers are sent properly, check your privacy settings, especially `privacy.resistFingerprinting`."
   ]
  },
  {
   "cell_type": "markdown",
   "id": "125f81d0-7776-471b-bea1-aed6f0ff274e",
   "metadata": {},
   "source": [
    "## Benchmarking CSS styles"
   ]
  },
  {
   "cell_type": "markdown",
   "id": "7845834d-4189-416a-bfcf-5a41dce2e9d0",
   "metadata": {},
   "source": [
    "Four benchmarks are provided for CSS styles:\n",
    "- [Style Rules](style_rules): provides information on CSS rule performance by disabling rules one-by-one, but takes a long time to iterate over every single rule available\n",
    "- [Style Sheets](style_sheets): disables entire CSS style sheets at a time; it is faster than disabling rules one-by-one, and more efficient when offending styles come from a single extension\n",
    "- [Style Rule Groups](style_rule_groups): allows to triangulate the offending rules or group of rules by disabling them block-by-block and then calculating an average contribution of each rule based on the runtime of each block\n",
    "- [Style Rule Usage](style_rule_usage): observes DOM modifications to calculate the frequency of usage for rules deemed relevant to the investigated scenario"
   ]
  },
  {
   "cell_type": "markdown",
   "id": "cce23034-0b20-45fa-87ef-3abe00f4cb56",
   "metadata": {},
   "source": [
    "### Nomenclature"
   ]
  },
  {
   "cell_type": "markdown",
   "id": "bc5d01d8-c6d8-49ad-a870-f41025ee8336",
   "metadata": {},
   "source": [
    "*Rules* are defined as groups of *properties*:"
   ]
  },
  {
   "cell_type": "markdown",
   "id": "70812f24-9a91-4d2f-98c8-78cf8985ac93",
   "metadata": {},
   "source": [
    "```html\n",
    "<!-- sheet start -->\n",
    "<style>\n",
    "  /* rule start */\n",
    "  .jp-MainAreaWidget  /* selector */\n",
    "  {\n",
    "    color: red;       /* property */\n",
    "    border: 1px;      /* property */\n",
    "  }\n",
    "  /* rule end */\n",
    "\n",
    "  /* rule start */\n",
    "  .jp-Notebook {\n",
    "    display: block;\n",
    "  }\n",
    "  /* rule end */\n",
    "</style>\n",
    "<!-- sheet end -->\n",
    "```"
   ]
  },
  {
   "cell_type": "markdown",
   "id": "885cb344-5eed-446d-90b0-a860dd4741b1",
   "metadata": {},
   "source": [
    "### Limitations"
   ]
  },
  {
   "cell_type": "markdown",
   "id": "77a730e0-e4b8-472f-a8da-fa4a1a56b541",
   "metadata": {},
   "source": [
    "Rules with pseudo-selectors and pseudo-classes in selector (e.g. `:hover`) cannot be invoked programatically, and therefore this ui-profiler cannot rule out performence bottlenecks resulting from such rules."
   ]
  },
  {
   "cell_type": "markdown",
   "id": "4906607f-7641-408c-8f0c-33c6671d4f6f",
   "metadata": {},
   "source": [
    "(style_rules)=\n",
    "### Style Rules"
   ]
  },
  {
   "cell_type": "markdown",
   "id": "eb736114-ad5c-455a-bffc-e07ed0d9db28",
   "metadata": {},
   "source": [
    "#### Available settings"
   ]
  },
  {
   "cell_type": "code",
   "execution_count": null,
   "id": "fafb4b41-c397-43f6-9fae-f9b8cc3acac9",
   "metadata": {
    "tags": [
     "remove-input"
    ]
   },
   "outputs": [],
   "source": [
    "show_settings('benchmark-rule')"
   ]
  },
  {
   "cell_type": "markdown",
   "id": "17c4bf40-129b-4847-b94d-3ccf1a17783c",
   "metadata": {},
   "source": [
    "(style_sheets)=\n",
    "### Style Sheets"
   ]
  },
  {
   "cell_type": "markdown",
   "id": "0ae1d50f-d568-4e79-95f4-b685747b1ed7",
   "metadata": {},
   "source": [
    "#### Available settings"
   ]
  },
  {
   "cell_type": "code",
   "execution_count": null,
   "id": "88cf1b92-da2e-48a8-b53a-4430faf74f8a",
   "metadata": {
    "tags": [
     "remove-input"
    ]
   },
   "outputs": [],
   "source": [
    "show_settings('benchmark-base')"
   ]
  },
  {
   "cell_type": "markdown",
   "id": "e5227b30-16cf-4a2e-82a5-677d07016bcd",
   "metadata": {},
   "source": [
    "#### Interpretation"
   ]
  },
  {
   "cell_type": "markdown",
   "id": "d2f9f23c-d05f-4844-a966-dfcac5b49a55",
   "metadata": {},
   "source": [
    "When a stylesheet is highlighted in this analysis, but no individual rule was higlighted in [Style Rules](style_rules) analysis, it may indicate a presence of interaction or synergy between rules."
   ]
  },
  {
   "cell_type": "markdown",
   "id": "f448ab8d-d94c-4038-b604-af89f09baa0b",
   "metadata": {},
   "source": [
    "(style_rule_groups)=\n",
    "### Style Rule Groups"
   ]
  },
  {
   "cell_type": "markdown",
   "id": "1dee117b-d11c-4a70-8c3d-29a20645468d",
   "metadata": {},
   "source": [
    "#### Available settings"
   ]
  },
  {
   "cell_type": "code",
   "execution_count": null,
   "id": "7f693480-db6e-4b33-b230-b4bfb49aba2b",
   "metadata": {
    "tags": [
     "remove-input"
    ]
   },
   "outputs": [],
   "source": [
    "show_settings('benchmark-rule-group')"
   ]
  },
  {
   "cell_type": "markdown",
   "id": "0902551c-db3f-4b4a-8b6c-d85e895c1d20",
   "metadata": {},
   "source": [
    "(style_rule_usage)=\n",
    "### Style Rule Usage"
   ]
  },
  {
   "cell_type": "markdown",
   "id": "8c9cbbb4-fad8-43f1-a292-fad6d6fd9d76",
   "metadata": {},
   "source": [
    "#### Available settings"
   ]
  },
  {
   "cell_type": "code",
   "execution_count": null,
   "id": "465f9aed-589a-4887-b236-f0d58d2482c5",
   "metadata": {
    "tags": [
     "remove-input"
    ]
   },
   "outputs": [],
   "source": [
    "show_settings('benchmark-rule-usage')"
   ]
  },
  {
   "cell_type": "markdown",
   "id": "699efd02-fe94-4a63-a7c8-59d52fc8eb1c",
   "metadata": {},
   "source": [
    "## Benchmarking JavaScript\n",
    "\n",
    "### At a glance\n",
    "\n",
    "- Benchmarking JavaScript code enables discovery of functions which\n",
    "  contribute to performance bottlenecks.\n",
    "- This feature relies on [JS self-profiling API](https://github.com/WICG/js-self-profiling)\n",
    "  which as of 2022 is only available on Chromium-based browsers.\n",
    "  - The self-profiling API relies on sampling method to collect stack\n",
    "    (list of frames) at specified *sampling intervals*."
   ]
  },
  {
   "cell_type": "markdown",
   "id": "e3e47af7-08e5-48bb-91d4-d7a93c83f569",
   "metadata": {},
   "source": [
    "### Available settings"
   ]
  },
  {
   "cell_type": "code",
   "execution_count": null,
   "id": "088bd445-98cb-4b14-bedb-33b22d6dc45d",
   "metadata": {
    "tags": [
     "remove-input"
    ]
   },
   "outputs": [],
   "source": [
    "show_settings('benchmark-profile')"
   ]
  },
  {
   "cell_type": "markdown",
   "id": "29b1f0ba-66d0-4a7d-85f3-bef22eac4b36",
   "metadata": {},
   "source": [
    "### Interpretation"
   ]
  },
  {
   "cell_type": "markdown",
   "id": "a7318247-6097-4ed2-a732-8f3de446be1e",
   "metadata": {},
   "source": [
    "### Troubleshooting"
   ]
  },
  {
   "cell_type": "markdown",
   "id": "decbd0e2-f821-44c6-af28-5d65ceb4a8a9",
   "metadata": {},
   "source": [
    "To enable self-profiling we add `Document-Policy: js-profiling` header to the settings of jupyter-server (via `jupyterlab_ui_profiler` server extension).\n",
    "\n",
    "If the profiler is not available, ensure that the server extension is active using:\n",
    "\n",
    "\n",
    "```\n",
    "jupyter server extension list\n",
    "```\n",
    "\n",
    "if it is active and you have just installed the extension, restart `jupyterlab` to ensure that it is loaded.\n",
    "\n",
    "If you use a replacement server (e.g. jupyverse) you will need to add the required header manually or switch to the default jupyter-server for the time of profiling."
   ]
  },
  {
   "cell_type": "markdown",
   "id": "c10ff475-db9d-4512-8654-7e312c1b125b",
   "metadata": {},
   "source": [
    "# Scenarios"
   ]
  },
  {
   "cell_type": "markdown",
   "id": "8e68348b-022b-4892-918a-5ab1d94e7843",
   "metadata": {},
   "source": [
    "TODO: should default scenarios be documented in another document?"
   ]
  },
  {
   "cell_type": "markdown",
   "id": "734e2b2f-fbc4-4963-a2f4-c8626a93a84a",
   "metadata": {},
   "source": [
    "# Advanced usage"
   ]
  },
  {
   "cell_type": "markdown",
   "id": "3b2d2984-4d3e-4d55-98d2-b411db39a633",
   "metadata": {},
   "source": [
    "TODO: possibly in another document?"
   ]
  },
  {
   "cell_type": "markdown",
   "id": "de8ae430-c8e8-4546-a6d8-e40424697461",
   "metadata": {},
   "source": [
    "## Loading from Python"
   ]
  }
 ],
 "metadata": {
  "kernelspec": {
   "display_name": "Python 3 (ipykernel)",
   "language": "python",
   "name": "python3"
  },
  "language_info": {
   "codemirror_mode": {
    "name": "ipython",
    "version": 3
   },
   "file_extension": ".py",
   "mimetype": "text/x-python",
   "name": "python",
   "nbconvert_exporter": "python",
   "pygments_lexer": "ipython3",
   "version": "3.8.6"
  }
 },
 "nbformat": 4,
 "nbformat_minor": 5
}
